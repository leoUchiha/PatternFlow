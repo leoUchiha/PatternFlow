{
  "nbformat": 4,
  "nbformat_minor": 0,
  "metadata": {
    "colab": {
      "provenance": [],
      "authorship_tag": "ABX9TyNDtZtQTNzGPAaEupbBe/HI",
      "include_colab_link": true
    },
    "kernelspec": {
      "name": "python3",
      "display_name": "Python 3"
    },
    "language_info": {
      "name": "python"
    }
  },
  "cells": [
    {
      "cell_type": "markdown",
      "metadata": {
        "id": "view-in-github",
        "colab_type": "text"
      },
      "source": [
        "<a href=\"https://colab.research.google.com/github/leoUchiha/PatternFlow/blob/master/comp5523_fashion_mnist.ipynb\" target=\"_parent\"><img src=\"https://colab.research.google.com/assets/colab-badge.svg\" alt=\"Open In Colab\"/></a>"
      ]
    },
    {
      "cell_type": "code",
      "execution_count": 2,
      "metadata": {
        "id": "UqH9wfYxDMUo"
      },
      "outputs": [],
      "source": [
        "from torchvision.datasets import CIFAR10, MNIST, FashionMNIST\n",
        "def load_fashion_mnist():\n",
        "    trainset = FashionMNIST(root='./data', train=True,\n",
        "                       download=True, transform=ToTensor())\n",
        "    testset = FashionMNIST(root='./data', train=False,\n",
        "                      download=True, transform=ToTensor())\n",
        "    return trainset, testset"
      ]
    },
    {
      "cell_type": "code",
      "source": [],
      "metadata": {
        "id": "1Dmth5pyDXuy"
      },
      "execution_count": null,
      "outputs": []
    }
  ]
}